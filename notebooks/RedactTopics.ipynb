{
 "metadata": {
  "name": ""
 },
 "nbformat": 3,
 "nbformat_minor": 0,
 "worksheets": [
  {
   "cells": [
    {
     "cell_type": "raw",
     "metadata": {},
     "source": [
      "Perform Topic Modelling on predicted redacted text using Text Baslines of Document Alignment model."
     ]
    },
    {
     "cell_type": "code",
     "collapsed": false,
     "input": [
      "%load_ext autoreload\n",
      "%autoreload 2"
     ],
     "language": "python",
     "metadata": {},
     "outputs": [],
     "prompt_number": 3
    },
    {
     "cell_type": "code",
     "collapsed": false,
     "input": [
      "import redact.baselines as baselines\n",
      "import redact.experiments\n",
      "from redact.data.human import *\n",
      "import redact.data.passwd as passwd"
     ],
     "language": "python",
     "metadata": {},
     "outputs": [],
     "prompt_number": 1
    },
    {
     "cell_type": "code",
     "collapsed": false,
     "input": [
      "db = passwd.get_db()\n",
      "cursor = passwd.get_cursor(db)\n",
      "all = HumanPair.get_all(cursor)"
     ],
     "language": "python",
     "metadata": {},
     "outputs": [],
     "prompt_number": 2
    },
    {
     "cell_type": "raw",
     "metadata": {},
     "source": [
      "Find the most common topics of the predicted redacted text."
     ]
    },
    {
     "cell_type": "code",
     "collapsed": false,
     "input": [
      "IMAGE_PATH = \"/media/sophie/Sophie Drive/images/Img/\"\n",
      "documents = []\n",
      "failed = []\n",
      "\n",
      "for i, a in enumerate(all):\n",
      "    try:\n",
      "        documents.append(baselines.make_docs(a, IMAGE_PATH))  \n",
      "    except Exception:\n",
      "        print \"fail\", i\n",
      "        failed.append(i)\n",
      "        pass"
     ],
     "language": "python",
     "metadata": {},
     "outputs": [
      {
       "output_type": "stream",
       "stream": "stdout",
       "text": [
        "fail 123\n"
       ]
      }
     ],
     "prompt_number": 4
    },
    {
     "cell_type": "raw",
     "metadata": {},
     "source": [
      "Now make the predictions, using the baseline Text Aligner."
     ]
    },
    {
     "cell_type": "code",
     "collapsed": false,
     "input": [
      "text_aligner = baselines.TextAligner()\n",
      "predictions = [text_aligner.align(p1, p2, i)\n",
      "                   for i, (p1, p2) in enumerate(documents)]\n",
      "# Each predicted redaction text will be \n",
      "# treated as a doc in the topic model\n",
      "predictions = [list(p) for p in predictions]\n",
      "predicted_text = [p.text for doc in predictions for p in doc]"
     ],
     "language": "python",
     "metadata": {},
     "outputs": [],
     "prompt_number": 5
    },
    {
     "cell_type": "raw",
     "metadata": {},
     "source": [
      "Now for the Topic Modelling:"
     ]
    },
    {
     "cell_type": "code",
     "collapsed": false,
     "input": [
      "import topicmodel.topicmodel as topicmodel\n",
      "m = topicmodel.TopicModel(predicted_text)"
     ],
     "language": "python",
     "metadata": {},
     "outputs": [],
     "prompt_number": 7
    },
    {
     "cell_type": "code",
     "collapsed": false,
     "input": [
      "lda = m.lda(20)\n",
      "for t in lda.show_topics(topics=5, topn=5):\n",
      "    print t\n",
      "    print"
     ],
     "language": "python",
     "metadata": {},
     "outputs": [
      {
       "output_type": "stream",
       "stream": "stderr",
       "text": [
        "WARNING:gensim.models.ldamodel:too few updates, training might not converge; consider increasing the number of passes or iterations to improve accuracy\n"
       ]
      },
      {
       "output_type": "stream",
       "stream": "stdout",
       "text": [
        "0.026*text + 0.025*illegible + 0.017*may + 0.012*military + 0.011*foreign\n",
        "\n",
        "0.017*british + 0.015*president + 0.014*french + 0.014*council + 0.014*study\n",
        "\n",
        "0.015*support + 0.015*british + 0.014*committee + 0.014*party + 0.014*nuclear\n",
        "\n",
        "0.021*recognized + 0.019*governments + 0.018*united + 0.018*states + 0.015*military\n",
        "\n",
        "0.019*war + 0.019*much + 0.018*united + 0.016*shah + 0.015*states\n",
        "\n"
       ]
      }
     ],
     "prompt_number": 19
    },
    {
     "cell_type": "code",
     "collapsed": false,
     "input": [
      "\n",
      "len(predicted_text)"
     ],
     "language": "python",
     "metadata": {},
     "outputs": [
      {
       "metadata": {},
       "output_type": "pyout",
       "prompt_number": 17,
       "text": [
        "234"
       ]
      }
     ],
     "prompt_number": 17
    }
   ],
   "metadata": {}
  }
 ]
}